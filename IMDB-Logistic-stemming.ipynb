{
 "cells": [
  {
   "cell_type": "markdown",
   "metadata": {},
   "source": [
    "# Kaggle: Bag of Words Meets Bags of Popcorn - I\n",
    "The following code contains two models: logistic regression and ensemble model of logistic+NB+SVM.  \n",
    "For part-1, logistic model, leaderboard score is 0.95304 (Probability), 0.88360 (Binary).  \n",
    "For part-2, ensemble model, leaderboard score is 0.95235 (Probability), 0.88680 (Binary)."
   ]
  },
  {
   "cell_type": "code",
   "execution_count": 1,
   "metadata": {
    "collapsed": false
   },
   "outputs": [],
   "source": [
    "% matplotlib inline\n",
    "import numpy as np\n",
    "import pandas as pd\n",
    "import nltk\n",
    "import re"
   ]
  },
  {
   "cell_type": "code",
   "execution_count": 2,
   "metadata": {
    "collapsed": false
   },
   "outputs": [],
   "source": [
    "from bs4 import BeautifulSoup\n",
    "#from sklearn.pipeline import Pipeline\n",
    "from sklearn.metrics import accuracy_score\n",
    "from sklearn.linear_model import LogisticRegression,SGDClassifier\n",
    "from sklearn.naive_bayes import BernoulliNB\n",
    "#from sklearn import svm\n",
    "from sklearn.feature_extraction.text import CountVectorizer, TfidfVectorizer\n",
    "from sklearn.utils import check_random_state\n",
    "from sklearn.model_selection import train_test_split\n",
    "from nltk.stem.snowball import EnglishStemmer"
   ]
  },
  {
   "cell_type": "code",
   "execution_count": 3,
   "metadata": {
    "collapsed": false
   },
   "outputs": [],
   "source": [
    "train=pd.read_csv('E:/542/Pro4/labeledTrainData.tsv', \n",
    "                  header=0,delimiter='\\t',quoting=3)\n",
    "test = pd.read_csv(\"E:/542/Pro4/testData.tsv\", header=0, delimiter=\"\\t\", quoting=3)"
   ]
  },
  {
   "cell_type": "code",
   "execution_count": 4,
   "metadata": {
    "collapsed": true
   },
   "outputs": [],
   "source": [
    "def preprocess (corpus):\n",
    "    num=corpus['review'].size\n",
    "    clean=[]\n",
    "    for i in range(0, num):\n",
    "        review_text = BeautifulSoup(corpus[\"review\"][i],'html.parser').get_text()\n",
    "        pattern = re.compile(r'[^\\w\\s]')\n",
    "        letnum_only = re.sub(pattern, \" \", review_text) \n",
    "        clean.append(letnum_only)\n",
    "    clean_result=pd.DataFrame({'text':clean}) \n",
    "    return clean_result"
   ]
  },
  {
   "cell_type": "code",
   "execution_count": 5,
   "metadata": {
    "collapsed": false
   },
   "outputs": [],
   "source": [
    "def tokenize(text):\n",
    "    tokens = nltk.word_tokenize(text)\n",
    "    stemmer = EnglishStemmer()\n",
    "    stems = map(stemmer.stem, tokens)\n",
    "    return stems"
   ]
  },
  {
   "cell_type": "code",
   "execution_count": 6,
   "metadata": {
    "collapsed": false
   },
   "outputs": [],
   "source": [
    "clean_train_df=preprocess(train)\n",
    "clean_test_df=preprocess(test)"
   ]
  },
  {
   "cell_type": "markdown",
   "metadata": {},
   "source": [
    "### Tuning and Validation\n",
    "As test dataset is not labelled, split 25% training data as a separate validation dataset.  \n",
    "For single models, Naive Bayes, Logistic Regression and SGDClassifier(SVM), SGDClassifier gives better accuracy on validation dataset based on binary classification (either 0 or 1), while logistic regression gives better accuracy based on probabilistic prediction (between 0 and 1).\n",
    "Here use logistic model.  \n",
    "By empirical trial of tuning, the parameter 'max_df' of tfidf vectorizing may affect approximately 2-3% of accuracy on validation dataset."
   ]
  },
  {
   "cell_type": "code",
   "execution_count": 7,
   "metadata": {
    "collapsed": false,
    "scrolled": true
   },
   "outputs": [],
   "source": [
    "X_train, X_test, y_train, y_test= train_test_split(clean_train_df['text'], train['sentiment'],  test_size=0.25, random_state=check_random_state(2017))"
   ]
  },
  {
   "cell_type": "code",
   "execution_count": 8,
   "metadata": {
    "collapsed": false
   },
   "outputs": [],
   "source": [
    "def cv_lr(X_train, y_train, X_test, random_state):\n",
    "    tfidf=TfidfVectorizer(stop_words = 'english',min_df=5,max_df=0.1,ngram_range=(1, 2),tokenizer=tokenize)\n",
    "    train_X = tfidf.fit_transform(X_train)\n",
    "    test_X=tfidf.transform(X_test)\n",
    "    #model=SGDClassifier(random_state=random_state)\n",
    "    model=LogisticRegression(penalty='l2', dual=True,random_state=check_random_state(2017))\n",
    "    model.fit(train_X,y_train)\n",
    "    y_pred=model.predict(test_X)\n",
    "    y_score=model.predict_proba(test_X)\n",
    "    return y_pred,y_score"
   ]
  },
  {
   "cell_type": "code",
   "execution_count": 9,
   "metadata": {
    "collapsed": false
   },
   "outputs": [
    {
     "name": "stdout",
     "output_type": "stream",
     "text": [
      "LR prediction accuracy = 88.65600%\n"
     ]
    }
   ],
   "source": [
    "y_pred1, y_score1 = cv_lr(X_train, y_train, X_test,random_state=check_random_state(2017))\n",
    "score1 = accuracy_score(y_pred1, y_test)\n",
    "print(\"LR prediction accuracy = {0:7.5f}%\".format(100.0 * score1))"
   ]
  },
  {
   "cell_type": "code",
   "execution_count": 10,
   "metadata": {
    "collapsed": false
   },
   "outputs": [],
   "source": [
    "y_pred2, y_score2 = cv_lr(clean_train_df['text'], train['sentiment'], clean_test_df['text'], random_state=check_random_state(520))"
   ]
  },
  {
   "cell_type": "code",
   "execution_count": 11,
   "metadata": {
    "collapsed": true
   },
   "outputs": [],
   "source": [
    "output=pd.DataFrame({'id':test['id'],'sentiment':y_pred2})\n",
    "output.to_csv(\"PredLRBin.csv\", index=False, quoting=3)"
   ]
  },
  {
   "cell_type": "code",
   "execution_count": 12,
   "metadata": {
    "collapsed": false
   },
   "outputs": [],
   "source": [
    "y_proba=[]\n",
    "for i in range(0,25000):\n",
    "        y_proba.append(y_score2[i][1])\n",
    "output=pd.DataFrame({'id':test['id'],'sentiment':y_proba})\n",
    "output.to_csv(\"PredLRProb.csv\", index=False, quoting=3)"
   ]
  }
 ],
 "metadata": {
  "kernelspec": {
   "display_name": "Python 3",
   "language": "python",
   "name": "python3"
  },
  "language_info": {
   "codemirror_mode": {
    "name": "ipython",
    "version": 3
   },
   "file_extension": ".py",
   "mimetype": "text/x-python",
   "name": "python",
   "nbconvert_exporter": "python",
   "pygments_lexer": "ipython3",
   "version": "3.6.0"
  }
 },
 "nbformat": 4,
 "nbformat_minor": 2
}
